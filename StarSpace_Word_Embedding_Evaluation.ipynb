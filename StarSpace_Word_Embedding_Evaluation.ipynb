{
 "cells": [
  {
   "cell_type": "markdown",
   "metadata": {},
   "source": [
    "# Data\n",
    "[Curated Stack Overflow pair of intent and code snippet](https://conala-corpus.github.io/)  "
   ]
  },
  {
   "cell_type": "code",
   "execution_count": 1,
   "metadata": {},
   "outputs": [],
   "source": [
    "import json\n",
    "import re\n",
    "import ast\n",
    "import sys\n",
    "import nltk\n",
    "import traceback\n",
    "import astor\n",
    "import token as tk\n",
    "from tokenize import generate_tokens\n",
    "from io import StringIO\n",
    "import itertools \n",
    "from gensim.models import FastText\n",
    "from gensim.models import KeyedVectors\n",
    "from time import time\n",
    "import numpy as np\n",
    "from sklearn.metrics.pairwise import cosine_similarity\n",
    "import matplotlib.pyplot as plt\n",
    "import seaborn as sns"
   ]
  },
  {
   "cell_type": "code",
   "execution_count": 2,
   "metadata": {},
   "outputs": [],
   "source": [
    "# File path\n",
    "train_path=\"data/conala-corpus/conala-train.json\"\n",
    "test_path=\"data/conala-corpus/conala-test.json\"\n",
    "\n",
    "train_clean_output_path=\"data/conala-corpus/.train.seq2seq\"\n",
    "test_clean_output_path=\"data/conala-corpus/.test.seq2seq\"\n",
    "\n",
    "unsupervised_wordembedding_file_path=\"data/conala-corpus/u_embeddings.txt\"\n",
    "supervised_wordembedding_file_path=\"data/conala-corpus/s_embeddings.txt\"\n",
    "\n",
    "#docembedding_file_path=\"data/document_embeddings.csv\""
   ]
  },
  {
   "cell_type": "code",
   "execution_count": 3,
   "metadata": {},
   "outputs": [],
   "source": [
    "QUOTED_STRING_RE = re.compile(r\"(?P<quote>[`'\\\"])(?P<string>.*?)(?P=quote)\")\n",
    "\n",
    "\n",
    "def canonicalize_intent(intent):\n",
    "    str_matches = QUOTED_STRING_RE.findall(intent)\n",
    "\n",
    "    slot_map = dict()\n",
    "\n",
    "    return intent, slot_map\n",
    "\n",
    "\n",
    "def replace_strings_in_ast(py_ast, string2slot):\n",
    "    for node in ast.walk(py_ast):\n",
    "        for k, v in list(vars(node).items()):\n",
    "            if k in ('lineno', 'col_offset', 'ctx'):\n",
    "                continue\n",
    "            # Python 3\n",
    "            # if isinstance(v, str) or isinstance(v, unicode):\n",
    "            if isinstance(v, str):\n",
    "                if v in string2slot:\n",
    "                    val = string2slot[v]\n",
    "                    # Python 3\n",
    "                    # if isinstance(val, unicode):\n",
    "                    #     try: val = val.encode('ascii')\n",
    "                    #     except: pass\n",
    "                    setattr(node, k, val)\n",
    "                else:\n",
    "                    # Python 3\n",
    "                    # if isinstance(v, str):\n",
    "                    #     str_key = unicode(v)\n",
    "                    # else:\n",
    "                    #     str_key = v.encode('utf-8')\n",
    "                    str_key = v\n",
    "\n",
    "                    if str_key in string2slot:\n",
    "                        val = string2slot[str_key]\n",
    "                        if isinstance(val, str):\n",
    "                            try: val = val.encode('ascii')\n",
    "                            except: pass\n",
    "                        setattr(node, k, val)\n",
    "\n",
    "\n",
    "def canonicalize_code(code, slot_map):\n",
    "    string2slot = {x[1]['value']: x[0] for x in list(slot_map.items())}\n",
    "\n",
    "    py_ast = ast.parse(code)\n",
    "    replace_strings_in_ast(py_ast, string2slot)\n",
    "    canonical_code = astor.to_source(py_ast)\n",
    "\n",
    "    return canonical_code\n",
    "\n",
    "\n",
    "def decanonicalize_code(code, slot_map):\n",
    "    try:\n",
    "        slot2string = {x[0]: x[1]['value'] for x in list(slot_map.items())}\n",
    "        py_ast = ast.parse(code)\n",
    "        replace_strings_in_ast(py_ast, slot2string)\n",
    "        raw_code = astor.to_source(py_ast)\n",
    "      # for slot_name, slot_info in slot_map.items():\n",
    "      #     raw_code = raw_code.replace(slot_name, slot_info['value'])\n",
    "\n",
    "        return raw_code.strip()\n",
    "    except:\n",
    "        return code\n",
    "\n",
    "def detokenize_code(code_tokens):\n",
    "    newline_pos = [i for i, x in enumerate(code_tokens) if x == '\\n']\n",
    "    newline_pos.append(len(code_tokens))\n",
    "    start = 0\n",
    "    lines = []\n",
    "    for i in newline_pos:\n",
    "        line = ' '.join(code_tokens[start: i])\n",
    "        start = i + 1\n",
    "        lines.append(line)\n",
    "\n",
    "    code = '\\n'.join(lines).strip()\n",
    "\n",
    "    return code\n",
    "\n",
    "\n",
    "def encode_tokenized_code(code_tokens):\n",
    "    tokens = []\n",
    "    for token in code_tokens:\n",
    "        if token == '\\t':\n",
    "            tokens.append('_TAB_')\n",
    "        elif token == '\\n':\n",
    "            tokens.append('_NEWLINE_')\n",
    "\n",
    "\n",
    "def get_encoded_code_tokens(code):\n",
    "    code = code.strip()\n",
    "    #print(code)\n",
    "    token_stream = generate_tokens(StringIO(code).readline)\n",
    "    tokens = []\n",
    "    indent_level = 0\n",
    "    new_line = False\n",
    "\n",
    "    for toknum, tokval, (srow, scol), (erow, ecol), _ in token_stream:\n",
    "        if toknum == tk.NEWLINE:\n",
    "            tokens.append('#NEWLINE#')\n",
    "            new_line = True\n",
    "        elif toknum == tk.INDENT:\n",
    "            indent_level += 1\n",
    "            # new_line = False\n",
    "            # for i in range(indent_level):\n",
    "            #     tokens.append('#INDENT#')\n",
    "        elif toknum == tk.STRING:\n",
    "            tokens.append(tokval.replace(' ', '#SPACE#').replace('\\t', '#TAB#').replace('\\r\\n', '#NEWLINE#').replace('\\n', '#NEWLINE#'))\n",
    "        elif toknum == tk.DEDENT:\n",
    "            indent_level -= 1\n",
    "            # for i in range(indent_level):\n",
    "            #     tokens.append('#INDENT#')\n",
    "            # new_line = False\n",
    "        else:\n",
    "            tokval = tokval.replace('\\n', '#NEWLINE#')\n",
    "            if new_line:\n",
    "                for i in range(indent_level):\n",
    "                    tokens.append('#INDENT#')\n",
    "\n",
    "            new_line = False\n",
    "            tokens.append(tokval)\n",
    "\n",
    "    # remove ending None\n",
    "    if len(tokens[-1]) == 0:\n",
    "        tokens = tokens[:-1]\n",
    "\n",
    "    if '\\n' in tokval:\n",
    "        pass\n",
    "\n",
    "    return tokens\n",
    "\n",
    "\n",
    "def tokenize(code):\n",
    "    token_stream = generate_tokens(StringIO(code).readline)\n",
    "    tokens = []\n",
    "    for toknum, tokval, (srow, scol), (erow, ecol), _ in token_stream:\n",
    "        if toknum == tk.ENDMARKER:\n",
    "            break\n",
    "\n",
    "        tokens.append(tokval)\n",
    "\n",
    "    return tokens\n",
    "\n",
    "\n",
    "def compare_ast(node1, node2):\n",
    "    # Python 3\n",
    "    # if not isinstance(node1, str) and not isinstance(node1, unicode):\n",
    "    if not isinstance(node1, str):\n",
    "        if type(node1) is not type(node2):\n",
    "            return False\n",
    "    if isinstance(node1, ast.AST):\n",
    "        for k, v in list(vars(node1).items()):\n",
    "            if k in ('lineno', 'col_offset', 'ctx'):\n",
    "                continue\n",
    "            if not compare_ast(v, getattr(node2, k)):\n",
    "                return False\n",
    "        return True\n",
    "    elif isinstance(node1, list):\n",
    "        return all(itertools.starmap(compare_ast, zip(node1, node2)))\n",
    "    else:\n",
    "        return node1 == node2\n",
    "\n",
    "\n",
    "def encoded_code_tokens_to_code(encoded_tokens, indent=' '):\n",
    "    decoded_tokens = []\n",
    "    for i in range(len(encoded_tokens)):\n",
    "        token = encoded_tokens[i]\n",
    "        token = token.replace('#TAB#', '\\t').replace('#SPACE#', ' ')\n",
    "\n",
    "        if token == '#INDENT#': decoded_tokens.append(indent)\n",
    "        elif token == '#NEWLINE#': decoded_tokens.append('\\n')\n",
    "        else:\n",
    "            token = token.replace('#NEWLINE#', '\\n')\n",
    "            decoded_tokens.append(token)\n",
    "            decoded_tokens.append(' ')\n",
    "\n",
    "    code = ''.join(decoded_tokens).strip()\n",
    "\n",
    "    return code\n",
    "\n",
    "\n",
    "def find_sub_sequence(sequence, query_seq):\n",
    "    for i in range(len(sequence)):\n",
    "        if sequence[i: len(query_seq) + i] == query_seq:\n",
    "            return i, len(query_seq) + i\n",
    "\n",
    "    raise IndexError\n",
    "\n",
    "\n",
    "def replace_sequence(sequence, old_seq, new_seq):\n",
    "    matched = False\n",
    "    for i in range(len(sequence)):\n",
    "        if sequence[i: i + len(old_seq)] == old_seq:\n",
    "            matched = True\n",
    "            sequence[i:i + len(old_seq)] = new_seq\n",
    "    return matched"
   ]
  },
  {
   "cell_type": "code",
   "execution_count": 4,
   "metadata": {},
   "outputs": [],
   "source": [
    "# read and clean data\n",
    "def read_clean_dataset(dataset_path, output_path):\n",
    "    train = json.load(open(dataset_path))\n",
    "\n",
    "    for i, example in enumerate(train):\n",
    "        # updating `train` in place\n",
    "        intent = example['intent']\n",
    "\n",
    "        rewritten_intent = example['rewritten_intent']\n",
    "\n",
    "        snippet = example['snippet']\n",
    "        # print(i)\n",
    "        # code_tokens = get_encoded_code_tokens(snippet)\n",
    "        # print(' '.join(code_tokens))\n",
    "\n",
    "        failed = False\n",
    "        intent_tokens = []\n",
    "        if rewritten_intent:\n",
    "            try:\n",
    "                canonical_intent, slot_map = canonicalize_intent(rewritten_intent)\n",
    "                #print(canonical_intent, slot_map)\n",
    "\n",
    "                snippet = snippet\n",
    "                canonical_snippet = canonicalize_code(snippet, slot_map)\n",
    "                #print(\"canonical_snippet:\", canonical_snippet, slot_map)\n",
    "\n",
    "                intent_tokens = nltk.word_tokenize(canonical_intent)\n",
    "\n",
    "                decanonical_snippet = decanonicalize_code(canonical_snippet, slot_map)\n",
    "                #print(\"decanonical_snippet: \",decanonical_snippet)\n",
    "\n",
    "                snippet_reconstr = astor.to_source(ast.parse(snippet)).strip()\n",
    "                #print(\"snippet_reconstr: \",decanonical_snippet)\n",
    "\n",
    "                decanonical_snippet_reconstr = astor.to_source(ast.parse(decanonical_snippet)).strip()\n",
    "                #print(\"decanonical_snippet_reconstr: \",decanonical_snippet_reconstr)\n",
    "                encoded_reconstr_code = get_encoded_code_tokens(decanonical_snippet_reconstr)\n",
    "                decoded_reconstr_code = encoded_code_tokens_to_code(encoded_reconstr_code)\n",
    "\n",
    "                # syntax error in snippet\n",
    "                if not compare_ast(ast.parse(decoded_reconstr_code), ast.parse(snippet)):\n",
    "                    print(i)\n",
    "                    print('Original Snippet: %s' % snippet_reconstr)\n",
    "                    print('Tokenized Snippet: %s' % ' '.join(encoded_reconstr_code))\n",
    "                    print('decoded_reconstr_code: %s' % decoded_reconstr_code)\n",
    "\n",
    "            except:\n",
    "                print('*' * 20, file=sys.stderr)\n",
    "                print(i, file=sys.stderr)\n",
    "                print(intent, file=sys.stderr)\n",
    "                print(snippet, file=sys.stderr)\n",
    "                traceback.print_exc()\n",
    "\n",
    "                failed = True\n",
    "            finally:\n",
    "                example['slot_map'] = slot_map\n",
    "\n",
    "        if rewritten_intent is None:\n",
    "            encoded_reconstr_code = get_encoded_code_tokens(snippet.strip())\n",
    "        else:\n",
    "            encoded_reconstr_code = get_encoded_code_tokens(canonical_snippet.strip())\n",
    "\n",
    "        if not intent_tokens:\n",
    "            intent_tokens = nltk.word_tokenize(intent)\n",
    "\n",
    "        example['intent_tokens'] = intent_tokens\n",
    "        example['snippet_tokens'] = encoded_reconstr_code\n",
    "\n",
    "    json.dump(train, open(output_path, 'w'), indent=2)\n",
    "    \n",
    "read_clean_dataset(train_path, train_clean_output_path)\n",
    "read_clean_dataset(test_path, test_clean_output_path)"
   ]
  },
  {
   "cell_type": "markdown",
   "metadata": {},
   "source": [
    "# Methods"
   ]
  },
  {
   "cell_type": "markdown",
   "metadata": {},
   "source": [
    "## StarSpace Word Embedding on both *Intent* and *Snippet*"
   ]
  },
  {
   "cell_type": "markdown",
   "metadata": {},
   "source": [
    "### Preparing Training Data"
   ]
  },
  {
   "cell_type": "code",
   "execution_count": 5,
   "metadata": {},
   "outputs": [],
   "source": [
    "train_clean = json.load(open(train_clean_output_path))"
   ]
  },
  {
   "cell_type": "code",
   "execution_count": 6,
   "metadata": {},
   "outputs": [],
   "source": [
    "star_keywrods = []\n",
    "for i, example in enumerate(train_clean):\n",
    "    star_keywrods.append((example[\"intent_tokens\"],example[\"snippet_tokens\"]))"
   ]
  },
  {
   "cell_type": "code",
   "execution_count": 7,
   "metadata": {},
   "outputs": [
    {
     "name": "stdout",
     "output_type": "stream",
     "text": [
      "2379\n"
     ]
    }
   ],
   "source": [
    "print(len(star_keywrods))"
   ]
  },
  {
   "cell_type": "code",
   "execution_count": null,
   "metadata": {},
   "outputs": [],
   "source": [
    "# for supervise training\n",
    "with open('supervised_train.tsv', 'w') as f:\n",
    "    for data in star_keywrods:\n",
    "        for word in data[0]:\n",
    "            f.write(\"%s \" % word)\n",
    "        f.write(\"\\t\")\n",
    "        for word in data[1]:\n",
    "            f.write(\"%s \" % word)\n",
    "        f.write(\"\\n\")\n",
    "    f.close()"
   ]
  },
  {
   "cell_type": "code",
   "execution_count": null,
   "metadata": {},
   "outputs": [],
   "source": [
    "# for unsupervise training\n",
    "with open('unsupervised_train.tsv', 'w') as f:\n",
    "    for data in star_keywrods:\n",
    "        for word in data[0]:\n",
    "            f.write(\"%s \" % word)\n",
    "        for word in data[1]:\n",
    "            f.write(\"%s \" % word)\n",
    "        f.write(\"\\n\")\n",
    "    f.close()"
   ]
  },
  {
   "cell_type": "markdown",
   "metadata": {},
   "source": [
    "### Parameter and Train"
   ]
  },
  {
   "cell_type": "code",
   "execution_count": null,
   "metadata": {},
   "outputs": [],
   "source": [
    "# for unsupervised training\n",
    "\n",
    "./starspace train -trainFile \"../erica/256/unsupervised_train.tsv\" \\ \n",
    "-model \"../erica/256/embedding5\" \\\n",
    "-trainMode 5 \\\n",
    "-adagrad true \\\n",
    "-ngrams 1 \\\n",
    "-epoch 10 \\\n",
    "-dim 100 \\\n",
    "-minCount 2 \\\n",
    "-verbose true \\\n",
    "-similarity \"cosine\" \\\n",
    "-negSearchLimit 10 \\\n",
    "-fileFormat labelDoc \\\n",
    "-lr 0.05 "
   ]
  },
  {
   "cell_type": "code",
   "execution_count": null,
   "metadata": {},
   "outputs": [],
   "source": [
    "# for supervised training\n",
    "\n",
    "./starspace train \n",
    "-trainFile \"train.tsv\" \n",
    "-model \"../erica/256/embedding2\"  \n",
    "-trainMode 3 \n",
    "-adagrad true \n",
    "-ngrams 1 \n",
    "-epoch 10 \n",
    "-dim 100 \n",
    "-similarity \"cosine\" \n",
    "-minCount 2 \n",
    "-negSearchLimit 10  \n",
    "-verbose true \n",
    "-fileFormat labelDoc \n",
    "-lr 0.001\n"
   ]
  },
  {
   "cell_type": "markdown",
   "metadata": {},
   "source": [
    "# Evaluation\n",
    "\n",
    "#### 1. Precision \n",
    "The Precision measures the percentage of correct result in the top 10 returned results for each query. \n",
    "In our evaluations it is calculated as follows:\n",
    "\n",
    "$Precision = \\frac{1}{|Q|}\\sum_{q=1}^{|Q|}(correct = 1, else = 0)$\n",
    "\n",
    "The higher the metric values, the better the code search performance. \n",
    "\n",
    "#### 2. Mean Reciprocal Rank\n",
    "The Mean Reciprocal Rank (MRR) is the average of the reciprocal ranks of results of a set of queries Q. \n",
    "The reciprocal rank of a query is the inverse of the rank of the first hit result. \n",
    "\n",
    "MRR is calculated as follows: \n",
    "\n",
    "$MRR = \\frac{1}{|Q|}\\sum_{q=1}^{|Q|}\\frac{1}{FRankq}$\n",
    "\n",
    "\n",
    "The higher the MRR value, the better the code search performance.\n",
    "\n"
   ]
  },
  {
   "cell_type": "code",
   "execution_count": 8,
   "metadata": {},
   "outputs": [],
   "source": [
    "# normalize a word represenatation vector that its L2 norm is 1.\n",
    "# we do this so that the cosine similarity reduces to a simple dot product\n",
    "            \n",
    "def get_most_relevant_document(tokenized_ques, word_embedding, doc_embedding, num=10):\n",
    "    \"\"\"Return the functions that are most relevant to the natual language question.\n",
    "\n",
    "    Args:\n",
    "        tokenized_ques: A list. \n",
    "        word_embedding: Word embedding generated from codebase.\n",
    "        doc_embedding: Document embedding generated from codebase\n",
    "        num: The number of top similar functions to return.\n",
    "\n",
    "    Returns:\n",
    "        A list of indices of the top NUM related functions to the QUESTION in the WORD_EMBEDDING.\n",
    "    \n",
    "    \"\"\"\n",
    "    vec_ques=np.zeros((1,doc_embedding.shape[1])) #vocab_size\n",
    "    token_count=0\n",
    "    has_token_in_embedding=False\n",
    "    for token in tokenized_ques:\n",
    "        if token in word_embedding:\n",
    "            has_token_in_embedding=True\n",
    "            vec_ques+=word_embedding[token]\n",
    "            token_count+=1\n",
    "    \n",
    "    if has_token_in_embedding:\n",
    "        mean_vec_ques=vec_ques/token_count\n",
    "    \n",
    "    \n",
    "        # compute similarity between this question and each of the source code snippets\n",
    "        cosine_sim=[]\n",
    "        for idx, doc in enumerate(doc_embedding):\n",
    "            #[TODO] fix dimension\n",
    "            try:\n",
    "                cosine_sim.append(cosine_similarity(mean_vec_ques, doc.reshape(1, -1))[0][0])\n",
    "            except ValueError:\n",
    "                print(question)\n",
    "                print(vec_ques, token_count)\n",
    "                print(mean_vec_ques)\n",
    "                print(doc.reshape(1, -1))\n",
    "        #print(cosine_sim)\n",
    "        # get top `num` similar functions\n",
    "        result=np.array(cosine_sim).argsort()[-num:][::-1]\n",
    "    else:\n",
    "        result=np.nan\n",
    "    return result"
   ]
  },
  {
   "cell_type": "code",
   "execution_count": 9,
   "metadata": {},
   "outputs": [],
   "source": [
    "def evaluation_metrics(list_most_relevant_doc, ques_list):\n",
    "    # if one of the ten results exactly match the correct code snippet, ct +=1 \n",
    "    ct = 0\n",
    "    # the correct code's ranking in 10 search results \n",
    "    position_list = []\n",
    "\n",
    "    for ques_sim_dict in list_most_relevant_doc:\n",
    "        for i, idx in enumerate(ques_sim_dict['similar']):\n",
    "            if ques_list[idx]['question_id'] == ques_sim_dict['question_id']:\n",
    "                ct += 1\n",
    "                position_list.append(i+1)\n",
    "                break\n",
    "    \n",
    "    # mean reciprocal ranks \n",
    "    rr = 0        \n",
    "    for rank in position_list:\n",
    "        rr += 1/rank\n",
    "            \n",
    "            \n",
    "    print(\"Precision: {:.3f}\".format(ct/len(ques_list)))\n",
    "    print(\"Average Position:\", round(np.mean(position_list),0))\n",
    "    print(\"Mean Reciprocal Ranks: {:.3f}\".format(rr/len(position_list)))\n",
    "    "
   ]
  },
  {
   "cell_type": "code",
   "execution_count": 10,
   "metadata": {},
   "outputs": [],
   "source": [
    "def load_embeddings(embeddings_path):\n",
    "    \"\"\"Loads pre-trained word embeddings from tsv file.\n",
    "\n",
    "    Args:\n",
    "      embeddings_path - path to the embeddings file.\n",
    "\n",
    "    Returns:\n",
    "      embeddings - dict mapping words to vectors;\n",
    "      dim - dimension of the vectors.\n",
    "      vocab_size - the vocabuary size of the embedding \n",
    "    \"\"\"\n",
    "\n",
    "    import csv\n",
    "    embeddings = {}\n",
    "    \n",
    "    with open(embeddings_path, newline='') as embedding_file:\n",
    "        reader = csv.reader(embedding_file, delimiter='\\t')\n",
    "        for line in reader:\n",
    "            word = line[0]\n",
    "            embedding = np.array(line[1:]).astype(np.float32)\n",
    "            embeddings[word] = embedding\n",
    "        dim = len(line) - 1\n",
    "    \n",
    "    return embeddings, dim"
   ]
  },
  {
   "cell_type": "markdown",
   "metadata": {},
   "source": [
    "## Unsupervised word embedding Evaluation"
   ]
  },
  {
   "cell_type": "code",
   "execution_count": 14,
   "metadata": {},
   "outputs": [
    {
     "name": "stdout",
     "output_type": "stream",
     "text": [
      "dimension: 100\n",
      "Vocab Size: 5177\n"
     ]
    }
   ],
   "source": [
    "unsupervised_embedding, dim= load_embeddings(\"unsupervised_embedding.tsv\")\n",
    "print(\"dimension:\", dim)\n",
    "print(\"Vocab Size:\", len(unsupervised_embedding.keys()))"
   ]
  },
  {
   "cell_type": "markdown",
   "metadata": {},
   "source": [
    "### Training Data "
   ]
  },
  {
   "cell_type": "code",
   "execution_count": 12,
   "metadata": {},
   "outputs": [
    {
     "name": "stdout",
     "output_type": "stream",
     "text": [
      "Run time: 0.060477495193481445 s\n"
     ]
    }
   ],
   "source": [
    "# build document embedding on `code` only\n",
    "st=time()\n",
    "train_size=len(train_clean)\n",
    "train_ques_list=[] # [{\"question_id\": int, \"intent_tokens\": [...]}, ...]\n",
    "train_document_embeddings=np.zeros((train_size, dim))\n",
    "\n",
    "for idx, example in enumerate(train_clean):\n",
    "    doc_vec_sum=np.zeros(dim)\n",
    "    train_ques_list.append({\"question_id\": example[\"question_id\"], \"intent_tokens\": example[\"intent_tokens\"]})\n",
    "    for term in example[\"snippet_tokens\"]:\n",
    "        if term in unsupervised_embedding:\n",
    "            doc_vec_sum+=unsupervised_embedding[term]\n",
    "    \n",
    "    train_document_embeddings[idx]=doc_vec_sum/len(example[\"snippet_tokens\"])\n",
    "    \n",
    "print(\"Run time: {} s\".format(time()-st))\n"
   ]
  },
  {
   "cell_type": "code",
   "execution_count": 59,
   "metadata": {},
   "outputs": [
    {
     "name": "stdout",
     "output_type": "stream",
     "text": [
      "Run time: 656.495735168457 s\n"
     ]
    }
   ],
   "source": [
    "st=time()\n",
    "train_list_most_relevant_doc=[] #[{\"question_id\": int, \"similar\": [id_in_train_clean]}]\n",
    "\n",
    "for idx in range(len(train_ques_list)): \n",
    "    question_token_list=train_ques_list[idx][\"intent_tokens\"]\n",
    "    question_id=train_ques_list[idx][\"question_id\"]\n",
    "    \n",
    "    most_relevant_doc=get_most_relevant_document(question_token_list, unsupervised_embedding, train_document_embeddings)\n",
    "    #if question_id in list_most_relevant_doc:\n",
    "        # this exist\n",
    "    train_list_most_relevant_doc.append({\"question_id\": question_id, \"similar\": most_relevant_doc})\n",
    "print(\"Run time: {} s\".format(time()-st)) "
   ]
  },
  {
   "cell_type": "code",
   "execution_count": 60,
   "metadata": {},
   "outputs": [
    {
     "name": "stdout",
     "output_type": "stream",
     "text": [
      "Precision: 0.457\n",
      "Average Position: 2.0\n",
      "Mean Reciprocal Ranks: 0.686\n"
     ]
    }
   ],
   "source": [
    "evaluation_metrics(train_list_most_relevant_doc, train_ques_list)"
   ]
  },
  {
   "cell_type": "markdown",
   "metadata": {},
   "source": [
    "### Test Data"
   ]
  },
  {
   "cell_type": "code",
   "execution_count": 61,
   "metadata": {},
   "outputs": [],
   "source": [
    "test_clean = json.load(open(test_clean_output_path))"
   ]
  },
  {
   "cell_type": "code",
   "execution_count": 62,
   "metadata": {},
   "outputs": [
    {
     "name": "stdout",
     "output_type": "stream",
     "text": [
      "Run time: 0.02442002296447754 s\n"
     ]
    }
   ],
   "source": [
    "# build document embedding on `code` only\n",
    "st=time()\n",
    "test_size=len(test_clean)\n",
    "test_ques_list=[] # [{\"question_id\": int, \"intent_tokens\": [...]}, ...]\n",
    "test_document_embeddings=np.zeros((test_size, dim))\n",
    "\n",
    "for idx, example in enumerate(test_clean):\n",
    "    doc_vec_sum=np.zeros(dim)\n",
    "    test_ques_list.append({\"question_id\": example[\"question_id\"], \"intent_tokens\": example[\"intent_tokens\"]})\n",
    "    for term in example[\"snippet_tokens\"]:\n",
    "        if term in unsupervised_embedding:\n",
    "            doc_vec_sum+=unsupervised_embedding[term]\n",
    "    \n",
    "    test_document_embeddings[idx]=doc_vec_sum/len(example[\"snippet_tokens\"])\n",
    "print(\"Run time: {} s\".format(time()-st))"
   ]
  },
  {
   "cell_type": "code",
   "execution_count": 63,
   "metadata": {},
   "outputs": [
    {
     "name": "stdout",
     "output_type": "stream",
     "text": [
      "Run time: 29.220451593399048 s\n"
     ]
    }
   ],
   "source": [
    "st=time()\n",
    "test_list_most_relevant_doc=[] #[{\"question_id\": int, \"similar\": [id_in_train_clean]}]\n",
    "for idx in range(len(test_ques_list)): \n",
    "    question_token_list=test_ques_list[idx][\"intent_tokens\"]\n",
    "    question_id=test_ques_list[idx][\"question_id\"]\n",
    "    \n",
    "    most_relevant_doc=get_most_relevant_document(question_token_list, unsupervised_embedding, test_document_embeddings)\n",
    "    test_list_most_relevant_doc.append({\"question_id\": question_id, \"similar\": most_relevant_doc})\n",
    "    \n",
    "print(\"Run time: {} s\".format(time()-st)) "
   ]
  },
  {
   "cell_type": "code",
   "execution_count": 64,
   "metadata": {},
   "outputs": [
    {
     "name": "stdout",
     "output_type": "stream",
     "text": [
      "Precision: 0.474\n",
      "Average Position: 3.0\n",
      "Mean Reciprocal Ranks: 0.672\n"
     ]
    }
   ],
   "source": [
    "evaluation_metrics(test_list_most_relevant_doc, test_ques_list)"
   ]
  },
  {
   "cell_type": "markdown",
   "metadata": {},
   "source": [
    "## Supervised word embedding Evaluation"
   ]
  },
  {
   "cell_type": "code",
   "execution_count": 65,
   "metadata": {},
   "outputs": [
    {
     "name": "stdout",
     "output_type": "stream",
     "text": [
      "dimension: 100\n",
      "Vocab Size: 2256\n"
     ]
    }
   ],
   "source": [
    "supervised_embedding, dim = load_embeddings(\"supervised_embedding.tsv\")\n",
    "print(\"dimension:\", dim)\n",
    "print(\"Vocab Size:\", len(supervised_embedding.keys()))"
   ]
  },
  {
   "cell_type": "markdown",
   "metadata": {},
   "source": [
    "### Training Data"
   ]
  },
  {
   "cell_type": "code",
   "execution_count": 66,
   "metadata": {},
   "outputs": [
    {
     "name": "stdout",
     "output_type": "stream",
     "text": [
      "Run time: 0.045540809631347656 s\n"
     ]
    }
   ],
   "source": [
    "# build document embedding on `code` only\n",
    "st=time()\n",
    "train_size=len(train_clean)\n",
    "train_ques_list=[] # [{\"question_id\": int, \"intent_tokens\": [...]}, ...]\n",
    "train_document_embeddings=np.zeros((train_size, dim))\n",
    "\n",
    "for idx, example in enumerate(train_clean):\n",
    "    doc_vec_sum=np.zeros(dim)\n",
    "    train_ques_list.append({\"question_id\": example[\"question_id\"], \"intent_tokens\": example[\"intent_tokens\"]})\n",
    "    for term in example[\"snippet_tokens\"]:\n",
    "        if term in supervised_embedding:\n",
    "            doc_vec_sum+=supervised_embedding[term]\n",
    "    \n",
    "    train_document_embeddings[idx]=doc_vec_sum/len(example[\"snippet_tokens\"])\n",
    "    \n",
    "# save the whole document_embeddings\n",
    "# np.savetxt(docembedding_file_path, train_document_embeddings, delimiter=\",\")\n",
    "print(\"Run time: {} s\".format(time()-st))\n"
   ]
  },
  {
   "cell_type": "code",
   "execution_count": 67,
   "metadata": {},
   "outputs": [
    {
     "name": "stdout",
     "output_type": "stream",
     "text": [
      "Run time: 654.1490540504456 s\n"
     ]
    }
   ],
   "source": [
    "st=time()\n",
    "train_list_most_relevant_doc=[] #[{\"question_id\": int, \"similar\": [id_in_train_clean]}]\n",
    "\n",
    "for idx in range(len(train_ques_list)): \n",
    "    question_token_list=train_ques_list[idx][\"intent_tokens\"]\n",
    "    question_id=train_ques_list[idx][\"question_id\"]\n",
    "    \n",
    "    most_relevant_doc=get_most_relevant_document(question_token_list, supervised_embedding, train_document_embeddings)\n",
    "    #if question_id in list_most_relevant_doc:\n",
    "        # this exist\n",
    "    train_list_most_relevant_doc.append({\"question_id\": question_id, \"similar\": most_relevant_doc})\n",
    "print(\"Run time: {} s\".format(time()-st)) "
   ]
  },
  {
   "cell_type": "code",
   "execution_count": 68,
   "metadata": {},
   "outputs": [
    {
     "name": "stdout",
     "output_type": "stream",
     "text": [
      "Precision: 0.781\n",
      "Average Position: 3.0\n",
      "Mean Reciprocal Ranks: 0.677\n"
     ]
    }
   ],
   "source": [
    "evaluation_metrics(train_list_most_relevant_doc, train_ques_list)"
   ]
  },
  {
   "cell_type": "markdown",
   "metadata": {},
   "source": [
    "### Test Data"
   ]
  },
  {
   "cell_type": "code",
   "execution_count": 69,
   "metadata": {},
   "outputs": [
    {
     "name": "stdout",
     "output_type": "stream",
     "text": [
      "Run time: 0.025289058685302734 s\n"
     ]
    }
   ],
   "source": [
    "# build document embedding on `code` only\n",
    "st=time()\n",
    "test_size=len(test_clean)\n",
    "test_ques_list=[] # [{\"question_id\": int, \"intent_tokens\": [...]}, ...]\n",
    "test_document_embeddings=np.zeros((test_size, dim))\n",
    "\n",
    "for idx, example in enumerate(test_clean):\n",
    "    doc_vec_sum=np.zeros(dim)\n",
    "    test_ques_list.append({\"question_id\": example[\"question_id\"], \"intent_tokens\": example[\"intent_tokens\"]})\n",
    "    for term in example[\"snippet_tokens\"]:\n",
    "        if term in supervised_embedding:\n",
    "            doc_vec_sum+=supervised_embedding[term]\n",
    "    \n",
    "    test_document_embeddings[idx]=doc_vec_sum/len(example[\"snippet_tokens\"])\n",
    "print(\"Run time: {} s\".format(time()-st))"
   ]
  },
  {
   "cell_type": "code",
   "execution_count": 70,
   "metadata": {},
   "outputs": [
    {
     "name": "stdout",
     "output_type": "stream",
     "text": [
      "Run time: 29.313667058944702 s\n"
     ]
    }
   ],
   "source": [
    "st=time()\n",
    "test_list_most_relevant_doc=[] #[{\"question_id\": int, \"similar\": [id_in_train_clean]}]\n",
    "for idx in range(len(test_ques_list)): \n",
    "    question_token_list=test_ques_list[idx][\"intent_tokens\"]\n",
    "    question_id=test_ques_list[idx][\"question_id\"]\n",
    "    \n",
    "    most_relevant_doc=get_most_relevant_document(question_token_list, supervised_embedding, test_document_embeddings)\n",
    "    test_list_most_relevant_doc.append({\"question_id\": question_id, \"similar\": most_relevant_doc})\n",
    "    \n",
    "print(\"Run time: {} s\".format(time()-st)) "
   ]
  },
  {
   "cell_type": "code",
   "execution_count": 71,
   "metadata": {},
   "outputs": [
    {
     "name": "stdout",
     "output_type": "stream",
     "text": [
      "Precision: 0.664\n",
      "Average Position: 3.0\n",
      "Mean Reciprocal Ranks: 0.606\n"
     ]
    }
   ],
   "source": [
    "evaluation_metrics(test_list_most_relevant_doc, test_ques_list)"
   ]
  },
  {
   "cell_type": "markdown",
   "metadata": {},
   "source": [
    "# Word Embeddings Figure"
   ]
  },
  {
   "cell_type": "code",
   "execution_count": 16,
   "metadata": {},
   "outputs": [],
   "source": [
    "import matplotlib.pyplot as plt\n",
    "from sklearn.manifold import TSNE\n",
    "from sklearn.decomposition import PCA"
   ]
  },
  {
   "cell_type": "code",
   "execution_count": 72,
   "metadata": {},
   "outputs": [],
   "source": [
    "def text_dim_reduction(word_embedding, dim_method, n_components=2):\n",
    "    \n",
    "    orderedNames = list(word_embedding.keys())\n",
    "    embedding_matrix = np.array([word_embedding[i] for i in orderedNames])\n",
    "    transform_embedding_matrix = dim_method(n_components=2).fit_transform(embedding_matrix)\n",
    "    \n",
    "    return transform_embedding_matrix, orderedNames"
   ]
  },
  {
   "cell_type": "code",
   "execution_count": 80,
   "metadata": {},
   "outputs": [],
   "source": [
    "def embedding_scatter_plot(embedding_matrix, word_list, test_list):\n",
    "\n",
    "    x = []\n",
    "    y = []\n",
    "    text = []\n",
    "\n",
    "    for item in test_list:\n",
    "        if item in word_list:\n",
    "            text.append(item)\n",
    "            x.append(embedding_matrix[word_list.index(item),0])\n",
    "            y.append(embedding_matrix[word_list.index(item),1])\n",
    "        \n",
    "    fig, ax = plt.subplots(figsize=(8,8))\n",
    "    ax.scatter(x, y)\n",
    "\n",
    "    for i, txt in enumerate(text):\n",
    "        ax.annotate(txt, (x[i], y[i]), fontsize = 12)"
   ]
  },
  {
   "cell_type": "code",
   "execution_count": 74,
   "metadata": {},
   "outputs": [],
   "source": [
    "u_pca_embedding_matrix, u_word_list = text_dim_reduction(unsupervised_embedding, PCA, n_components=2)\n",
    "u_tsne_embedding_matrix, u_word_list = text_dim_reduction(unsupervised_embedding, TSNE, n_components=2)"
   ]
  },
  {
   "cell_type": "code",
   "execution_count": 75,
   "metadata": {},
   "outputs": [],
   "source": [
    "s_pca_embedding_matrix, s_word_list = text_dim_reduction(supervised_embedding, PCA, n_components=2)\n",
    "s_tsne_embedding_matrix, s_word_list = text_dim_reduction(supervised_embedding, TSNE, n_components=2)"
   ]
  },
  {
   "cell_type": "code",
   "execution_count": 101,
   "metadata": {},
   "outputs": [],
   "source": [
    "test_list = ['9','8','list','str','dictionary','for','range','=','>','than','if']"
   ]
  },
  {
   "cell_type": "code",
   "execution_count": 102,
   "metadata": {},
   "outputs": [
    {
     "data": {
      "image/png": "[encoded data removed]",
      "text/plain": [
       "<Figure size 576x576 with 1 Axes>"
      ]
     },
     "metadata": {
      "needs_background": "light"
     },
     "output_type": "display_data"
    }
   ],
   "source": [
    "embedding_scatter_plot(u_pca_embedding_matrix, u_word_list, test_list)"
   ]
  },
  {
   "cell_type": "code",
   "execution_count": 103,
   "metadata": {},
   "outputs": [
    {
     "data": {
      "image/png": "[encoded data removed]",
      "text/plain": [
       "<Figure size 576x576 with 1 Axes>"
      ]
     },
     "metadata": {
      "needs_background": "light"
     },
     "output_type": "display_data"
    }
   ],
   "source": [
    "embedding_scatter_plot(u_tsne_embedding_matrix, u_word_list, test_list)"
   ]
  },
  {
   "cell_type": "code",
   "execution_count": 104,
   "metadata": {},
   "outputs": [
    {
     "data": {
      "image/png": "[encoded data removed]",
      "text/plain": [
       "<Figure size 576x576 with 1 Axes>"
      ]
     },
     "metadata": {
      "needs_background": "light"
     },
     "output_type": "display_data"
    }
   ],
   "source": [
    "embedding_scatter_plot(s_pca_embedding_matrix, s_word_list, test_list)"
   ]
  },
  {
   "cell_type": "code",
   "execution_count": 105,
   "metadata": {},
   "outputs": [
    {
     "data": {
      "image/png": "[encoded data removed]",
      "text/plain": [
       "<Figure size 576x576 with 1 Axes>"
      ]
     },
     "metadata": {
      "needs_background": "light"
     },
     "output_type": "display_data"
    }
   ],
   "source": [
    "embedding_scatter_plot(s_tsne_embedding_matrix, s_word_list, test_list)"
   ]
  },
  {
   "cell_type": "code",
   "execution_count": null,
   "metadata": {},
   "outputs": [],
   "source": []
  }
 ],
 "metadata": {
  "kernelspec": {
   "display_name": "Python 3",
   "language": "python",
   "name": "python3"
  },
  "language_info": {
   "codemirror_mode": {
    "name": "ipython",
    "version": 3
   },
   "file_extension": ".py",
   "mimetype": "text/x-python",
   "name": "python",
   "nbconvert_exporter": "python",
   "pygments_lexer": "ipython3",
   "version": "3.6.8"
  }
 },
 "nbformat": 4,
 "nbformat_minor": 2
}
